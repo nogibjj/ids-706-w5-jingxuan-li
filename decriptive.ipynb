{
 "cells": [
  {
   "cell_type": "code",
   "execution_count": 8,
   "id": "18b2f13c-9425-461f-be2b-3d67bed17d65",
   "metadata": {},
   "outputs": [],
   "source": [
    "import pandas as pd\n",
    "import matplotlib.pyplot as plt\n"
   ]
  },
  {
   "cell_type": "code",
   "execution_count": 9,
   "id": "cadc165f-b3f6-43f5-991b-0797b00f528e",
   "metadata": {},
   "outputs": [
    {
     "name": "stdout",
     "output_type": "stream",
     "text": [
      "  EmployeeID   FirstName LastName      Gender  Age BusinessTravel  \\\n",
      "0  3012-1A41    Leonelle    Simco      Female   30    Some Travel   \n",
      "1  CBCB-9C9D     Leonerd    Aland        Male   38    Some Travel   \n",
      "2  95D7-1CE9       Ahmed    Sykes        Male   43    Some Travel   \n",
      "3  47A0-559B  Ermentrude   Berrie  Non-Binary   39    Some Travel   \n",
      "4  42CC-040A       Stace   Savege      Female   29    Some Travel   \n",
      "\n",
      "        Department  DistanceFromHome (KM) State                Ethnicity  ...  \\\n",
      "0            Sales                     27    IL                    White  ...   \n",
      "1            Sales                     23    CA                    White  ...   \n",
      "2  Human Resources                     29    CA  Asian or Asian American  ...   \n",
      "3       Technology                     12    IL                    White  ...   \n",
      "4  Human Resources                     29    CA                    White  ...   \n",
      "\n",
      "   MaritalStatus  Salary StockOptionLevel OverTime    HireDate  Attrition  \\\n",
      "0       Divorced  102059                1       No  2012-01-03         No   \n",
      "1         Single  157718                0      Yes  2012-01-04         No   \n",
      "2        Married  309964                1       No  2012-01-04         No   \n",
      "3        Married  293132                0       No  2012-01-05         No   \n",
      "4         Single   49606                0       No  2012-01-05        Yes   \n",
      "\n",
      "  YearsAtCompany YearsInMostRecentRole YearsSinceLastPromotion  \\\n",
      "0             10                     4                       9   \n",
      "1             10                     6                      10   \n",
      "2             10                     6                      10   \n",
      "3             10                    10                      10   \n",
      "4              6                     1                       1   \n",
      "\n",
      "   YearsWithCurrManager  \n",
      "0                     7  \n",
      "1                     0  \n",
      "2                     8  \n",
      "3                     0  \n",
      "4                     6  \n",
      "\n",
      "[5 rows x 23 columns]\n"
     ]
    }
   ],
   "source": [
    "\n",
    "df = pd.read_csv('./Employee.csv')\n",
    "print(df.head())\n"
   ]
  },
  {
   "cell_type": "code",
   "execution_count": 10,
   "id": "275da6e6-766d-4f26-949e-14ce3d0ad978",
   "metadata": {},
   "outputs": [
    {
     "name": "stdout",
     "output_type": "stream",
     "text": [
      "               Age  DistanceFromHome (KM)    Education         Salary  \\\n",
      "count  1470.000000            1470.000000  1470.000000    1470.000000   \n",
      "mean     28.989796              22.502721     2.912925  112956.497959   \n",
      "std       7.993055              12.811124     1.024165  103342.889222   \n",
      "min      18.000000               1.000000     1.000000   20387.000000   \n",
      "25%      23.000000              12.000000     2.000000   43580.500000   \n",
      "50%      26.000000              22.000000     3.000000   71199.500000   \n",
      "75%      34.000000              33.000000     4.000000  142055.750000   \n",
      "max      51.000000              45.000000     5.000000  547204.000000   \n",
      "\n",
      "       StockOptionLevel  YearsAtCompany  YearsInMostRecentRole  \\\n",
      "count       1470.000000     1470.000000            1470.000000   \n",
      "mean           0.793878        4.562585               2.293197   \n",
      "std            0.852077        3.288048               2.539093   \n",
      "min            0.000000        0.000000               0.000000   \n",
      "25%            0.000000        2.000000               0.000000   \n",
      "50%            1.000000        4.000000               1.000000   \n",
      "75%            1.000000        7.000000               4.000000   \n",
      "max            3.000000       10.000000              10.000000   \n",
      "\n",
      "       YearsSinceLastPromotion  YearsWithCurrManager  \n",
      "count              1470.000000           1470.000000  \n",
      "mean                  3.440816              2.239456  \n",
      "std                   2.945194              2.505774  \n",
      "min                   0.000000              0.000000  \n",
      "25%                   1.000000              0.000000  \n",
      "50%                   3.000000              1.000000  \n",
      "75%                   6.000000              4.000000  \n",
      "max                  10.000000             10.000000  \n"
     ]
    }
   ],
   "source": [
    "\n",
    "summary_statistics = df.describe()\n",
    "print(summary_statistics)\n"
   ]
  },
  {
   "cell_type": "code",
   "execution_count": 11,
   "id": "d19b9f76-50d0-414c-9d9b-6b29bbd983f8",
   "metadata": {},
   "outputs": [
    {
     "name": "stdout",
     "output_type": "stream",
     "text": [
      "Age descriptive statistics:\n",
      "Average age: 28.99\n",
      "Median age: 26.0\n",
      "Stanard Deviation of age: 7.99\n",
      "\n",
      "Salary descriptive statistics:\n",
      "Average salary: 112956.50\n",
      "Median salary: 71199.5\n",
      "Stanard Deviation of salary: 103342.89\n"
     ]
    }
   ],
   "source": [
    "age_mean = df['Age'].mean()\n",
    "age_median = df['Age'].median()\n",
    "age_std = df['Age'].std()\n",
    "\n",
    "salary_mean = df['Salary'].mean()\n",
    "salary_median = df['Salary'].median()\n",
    "salary_std = df['Salary'].std()\n",
    "\n",
    "print(\"Age descriptive statistics:\")\n",
    "print(f\"Average age: {age_mean:.2f}\")\n",
    "print(f\"Median age: {age_median}\")\n",
    "print(f\"Stanard Deviation of age: {age_std:.2f}\")\n",
    "\n",
    "print(\"\\nSalary descriptive statistics:\")\n",
    "print(f\"Average salary: {salary_mean:.2f}\")\n",
    "print(f\"Median salary: {salary_median}\")\n",
    "print(f\"Stanard Deviation of salary: {salary_std:.2f}\")\n"
   ]
  },
  {
   "cell_type": "code",
   "execution_count": 12,
   "id": "54387536-c552-4771-8982-7f7d9e675f7e",
   "metadata": {},
   "outputs": [
    {
     "data": {
      "image/png": "[encoded data removed]",
      "text/plain": [
       "<Figure size 640x480 with 1 Axes>"
      ]
     },
     "metadata": {},
     "output_type": "display_data"
    }
   ],
   "source": [
    "plt.hist(df['Age'], bins=10, color='blue', alpha=0.7)\n",
    "plt.title('Age Distribution')\n",
    "plt.xlabel('Age')\n",
    "plt.ylabel('Frequency')\n",
    "plt.grid(True)\n",
    "plt.show()\n"
   ]
  }
 ],
 "metadata": {
  "kernelspec": {
   "display_name": "Python 3 (ipykernel)",
   "language": "python",
   "name": "python3"
  },
  "language_info": {
   "codemirror_mode": {
    "name": "ipython",
    "version": 3
   },
   "file_extension": ".py",
   "mimetype": "text/x-python",
   "name": "python",
   "nbconvert_exporter": "python",
   "pygments_lexer": "ipython3",
   "version": "3.9.1"
  }
 },
 "nbformat": 4,
 "nbformat_minor": 5
}
